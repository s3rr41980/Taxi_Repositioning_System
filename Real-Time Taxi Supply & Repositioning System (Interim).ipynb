{
 "cells": [
  {
   "cell_type": "markdown",
   "id": "cdb0e1a7-112e-442a-9d1d-80ac9ecbef49",
   "metadata": {},
   "source": [
    "# Real-Time Taxi Suppy & Repositioning System (Interim)"
   ]
  },
  {
   "cell_type": "markdown",
   "id": "64c8b10b-8ccd-4200-a589-3a5498ab58f6",
   "metadata": {},
   "source": [
    "### Objective: \n",
    "#### Analyze Singapore cab pickup and dropoff data to identify high-demand areas, busiest times, and optimize driver allocation using SQL for data management and Python for analysis and visualization."
   ]
  },
  {
   "cell_type": "markdown",
   "id": "2ccd658e-b721-488e-9d7d-5f10e782cb90",
   "metadata": {},
   "source": [
    "### Data Source: \n",
    "##### [1. Real-time - LTA Data Mall (Taxi Availability)](https://datamall.lta.gov.sg/content/datamall/en/search_datasets.html?searchText=taxi)\n",
    "##### [2. Excel - Singapore City Geo-Coordinates](https://www.kaggle.com/datasets/shymammoth/singapore-city-geo-coordinates-more-reliable?resource=download)"
   ]
  },
  {
   "cell_type": "code",
   "execution_count": null,
   "id": "698a0bcd-84f3-4417-81eb-3eea0260f1a6",
   "metadata": {},
   "outputs": [],
   "source": []
  },
  {
   "cell_type": "code",
   "execution_count": null,
   "id": "d56aed92-9daf-4ffd-8cf2-ebdae097ffd7",
   "metadata": {},
   "outputs": [],
   "source": [
    "import pandas as pd\n",
    "import requests\n",
    "from sqlalchemy import create_engine\n",
    "from datetime import datetime"
   ]
  },
  {
   "cell_type": "markdown",
   "id": "095ee4f5-ad80-4c47-bfed-1a4b90ecd011",
   "metadata": {},
   "source": [
    "#### Function 1: Extract taxi availability data"
   ]
  },
  {
   "cell_type": "code",
   "execution_count": null,
   "id": "392aa56e-96e5-419d-89bb-2c9bd1547736",
   "metadata": {},
   "outputs": [],
   "source": [
    "def taxi_availability_extract(api_key):\n",
    "\n",
    "    \"\"\"\n",
    "    Start streaming live data from LTA API based on given frequency\n",
    "    \n",
    "    Returns:\n",
    "        pandas DataFrame: A list of available taxi coordinates with time stamp in json\n",
    "    \"\"\"\n",
    "\n",
    "    return taxi_data\n",
    "\n",
    "taxi_availability_extract(api_key)"
   ]
  },
  {
   "cell_type": "markdown",
   "id": "a9118635-ff4f-4b7e-bedb-b7d2bb955387",
   "metadata": {},
   "source": [
    "#### Function 2: Extract Singapore geo-coordinates data"
   ]
  },
  {
   "cell_type": "code",
   "execution_count": null,
   "id": "557f5a8b-adf9-4e17-8c49-dd3b14733096",
   "metadata": {},
   "outputs": [],
   "source": [
    "def load_geolocations(csv_path):\n",
    "\n",
    "  \"\"\"\n",
    "    Extracts Singapore geo-coordinates data from csv\n",
    "    \n",
    "    Returns:\n",
    "        pandas DataFrame: A list of Singapore town, region names with coordinate boundaries\n",
    "    \"\"\"\n",
    "\n",
    "    df = pd.read_csv(csv_path)\n",
    "\n",
    "    # Add surrogate primary key\n",
    "    df['location_id'] = range(1, len(df) + 1)\n",
    "\n",
    "    # Reorder columns (check actual column names in your file)\n",
    "    if 'area_name' in df.columns:\n",
    "        columns = ['location_id', 'area_name', 'latitude', 'longitude']\n",
    "    else:\n",
    "        columns = ['location_id', 'latitude', 'longitude']\n",
    "        \n",
    "    geolocations_data = df[columns]\n",
    "    return geolocations_data\n",
    "\n",
    "\n",
    "load_geolocations(KAGGLE_CSV_PATH)"
   ]
  },
  {
   "cell_type": "markdown",
   "id": "31b77627-8593-4f52-b4c7-899f665b5cab",
   "metadata": {},
   "source": [
    "#### Function 3: Transform data"
   ]
  },
  {
   "cell_type": "code",
   "execution_count": null,
   "id": "ff118340-bc7f-4d01-aeb7-7e9c843eb51e",
   "metadata": {},
   "outputs": [],
   "source": [
    "def transform_data(taxi_data, geo_data):\n",
    "\n",
    "    \"\"\"\n",
    "    Transform extracted data into suitable schema for visualisation and Postgres\n",
    "    \n",
    "    Returns:\n",
    "        DataFrame with columns ['time_stamp', 'town_name', 'region_name', 'longtitude', 'latitude']\n",
    "    \"\"\"\n",
    "    return transformed_data\n",
    "\n",
    "transform_data(taxi_data, geo_data)"
   ]
  },
  {
   "cell_type": "markdown",
   "id": "2ba8e692-c06e-456b-a5a0-3da054942432",
   "metadata": {},
   "source": [
    "#### Function 4: Data Visualisation"
   ]
  },
  {
   "cell_type": "code",
   "execution_count": null,
   "id": "40ac143a-b7b4-40ec-89af-f8debc161f28",
   "metadata": {},
   "outputs": [],
   "source": [
    "def geospatial_visualisation(transformed_data)\n",
    "\n",
    "    \"\"\"\n",
    "    Plot live taxi location via Folium library\n",
    "    \n",
    "    Returns:\n",
    "        DataFrame with columns ['time_stamp', 'town_name', 'region_name', 'longtitude', 'latitude']\n",
    "    \"\"\"\n",
    "\n",
    "geospatial_visualisation(transformed_data)"
   ]
  },
  {
   "cell_type": "markdown",
   "id": "3230b2e7-877b-4659-b14b-f39ec031641c",
   "metadata": {},
   "source": [
    "#### Function 5: Load Postgres"
   ]
  },
  {
   "cell_type": "code",
   "execution_count": null,
   "id": "ad8d272d-8e1d-47eb-8f01-a30c2ed34622",
   "metadata": {},
   "outputs": [],
   "source": [
    "def load_postgres(transformed_data):\n",
    "\n",
    "    \"\"\"\n",
    "    Load transformed data into Postgres\n",
    "    \n",
    "    \"\"\"\n",
    "\n",
    "load_postgres(transformed_data)"
   ]
  },
  {
   "cell_type": "markdown",
   "id": "c21d53db-fd00-4744-839b-2ead18508937",
   "metadata": {},
   "source": [
    "#### Function 6: Orchestrating function"
   ]
  },
  {
   "cell_type": "code",
   "execution_count": null,
   "id": "8f0f8f7f-1a9e-4210-9a83-9de8217d3553",
   "metadata": {},
   "outputs": [],
   "source": [
    "def run_pipeline()\n",
    "\n",
    "    \"\"\"\n",
    "    Executes pipeline and save data to Postres by batches when a condition is met\n",
    "    \n",
    "    \"\"\"\n",
    "\n",
    "    while TRUE:\n",
    "        \n",
    "        taxi_availability_extract(api_key) # Function 1\n",
    "\n",
    "        sg_geo_extract() # Function 2\n",
    "        \n",
    "        transform_data(taxi_data, geo_data) # Function 3\n",
    "\n",
    "        geospatial_visualisation(transformed_data) # Function 4\n",
    "\n",
    "        load_postgres(transformed_data) # Function 5\n"
   ]
  },
  {
   "cell_type": "markdown",
   "id": "d214d817-b49e-4593-9c8e-e040a22f4ff2",
   "metadata": {},
   "source": []
  }
 ],
 "metadata": {
  "kernelspec": {
   "display_name": "Python [conda env:base] *",
   "language": "python",
   "name": "conda-base-py"
  },
  "language_info": {
   "codemirror_mode": {
    "name": "ipython",
    "version": 3
   },
   "file_extension": ".py",
   "mimetype": "text/x-python",
   "name": "python",
   "nbconvert_exporter": "python",
   "pygments_lexer": "ipython3",
   "version": "3.13.5"
  }
 },
 "nbformat": 4,
 "nbformat_minor": 5
}
